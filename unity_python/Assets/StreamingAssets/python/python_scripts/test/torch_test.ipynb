{
 "cells": [
  {
   "cell_type": "code",
   "execution_count": 1,
   "metadata": {},
   "outputs": [],
   "source": [
    "import torch\n"
   ]
  },
  {
   "cell_type": "code",
   "execution_count": 5,
   "metadata": {},
   "outputs": [
    {
     "name": "stdout",
     "output_type": "stream",
     "text": [
      "tensor([1, 2, 3, 4, 5, 6])\n"
     ]
    }
   ],
   "source": [
    "\n",
    "# 1차원 텐서들\n",
    "tensor1 = torch.tensor([1, 2, 3])\n",
    "tensor2 = torch.tensor([4, 5, 6])\n",
    "\n",
    "# dim 인자 없이 텐서들을 연결\n",
    "result = torch.cat([tensor1, tensor2])\n",
    "print(result)"
   ]
  },
  {
   "cell_type": "code",
   "execution_count": 7,
   "metadata": {},
   "outputs": [
    {
     "name": "stdout",
     "output_type": "stream",
     "text": [
      "tensor([ 1,  2,  3,  4,  5,  6,  7,  8,  9, 10, 11, 12, 13, 14, 15, 16, 17, 18,\n",
      "        19, 20, 21, 22, 23, 24, 25, 26, 27])\n"
     ]
    }
   ],
   "source": [
    "# 예시\n",
    "state0 = torch.tensor([1, 2, 3, 4, 5, 6, 7, 8, 9])\n",
    "state1 = torch.tensor([10, 11, 12, 13, 14, 15, 16, 17, 18])\n",
    "state2 = torch.tensor([19, 20, 21, 22, 23, 24, 25, 26, 27])\n",
    "\n",
    "state_batch = torch.cat([state0, state1, state2], dim=0)\n",
    "print(state_batch)"
   ]
  },
  {
   "cell_type": "markdown",
   "metadata": {},
   "source": [
    "# Mask"
   ]
  },
  {
   "cell_type": "code",
   "execution_count": 9,
   "metadata": {},
   "outputs": [
    {
     "name": "stdout",
     "output_type": "stream",
     "text": [
      "tensor([100, 200,   3,   4, 500])\n"
     ]
    }
   ],
   "source": [
    "a = torch.tensor([1,2,3,4,5])\n",
    "mask = torch.tensor([True, True, False, False, True])\n",
    "\n",
    "mask_val = torch.tensor([100,200,500])\n",
    "\n",
    "a[mask] = mask_val\n",
    "\n",
    "print(a)"
   ]
  },
  {
   "cell_type": "code",
   "execution_count": 10,
   "metadata": {},
   "outputs": [
    {
     "data": {
      "text/plain": [
       "tensor([[1, 2, 3, 4]])"
      ]
     },
     "execution_count": 10,
     "metadata": {},
     "output_type": "execute_result"
    }
   ],
   "source": [
    "torch.tensor([[1,2,3,4]])"
   ]
  },
  {
   "cell_type": "code",
   "execution_count": 13,
   "metadata": {},
   "outputs": [],
   "source": [
    "import torch.nn as nn\n",
    "class DQN(nn.Module):##v5.1\n",
    "    def __init__(self, state_size, action_size):\n",
    "        super(DQN, self).__init__()\n",
    "        self.fc1 = nn.Linear(state_size, 64)\n",
    "        self.fc2 = nn.Linear(64, 64)\n",
    "        self.fc3 = nn.Linear(64, 64)\n",
    "        self.relu = nn.ReLU()\n",
    "        self.fc4 = nn.Linear(64, action_size)\n",
    "\n",
    "    def forward(self, x):\n",
    "        x = self.relu(self.fc1(x))\n",
    "        x = self.relu(self.fc2(x))\n",
    "        x = self.relu(self.fc3(x))\n",
    "        return self.fc4(x)"
   ]
  },
  {
   "cell_type": "code",
   "execution_count": 18,
   "metadata": {},
   "outputs": [],
   "source": [
    "dqn = DQN(3,4)"
   ]
  },
  {
   "cell_type": "code",
   "execution_count": 23,
   "metadata": {},
   "outputs": [
    {
     "data": {
      "text/plain": [
       "tensor([[ 0.1989,  0.0366, -0.0228, -0.1228],\n",
       "        [ 0.1989,  0.0366, -0.0228, -0.1228],\n",
       "        [ 0.1975,  0.1238,  0.0761, -0.1463]], grad_fn=<AddmmBackward0>)"
      ]
     },
     "execution_count": 23,
     "metadata": {},
     "output_type": "execute_result"
    }
   ],
   "source": [
    "dqn(torch.tensor([[1,2,3],[1,2,3],[4,5,6]], dtype=torch.float))"
   ]
  },
  {
   "cell_type": "code",
   "execution_count": 24,
   "metadata": {},
   "outputs": [
    {
     "ename": "AttributeError",
     "evalue": "'TestClass' object has no attribute 'aaa'",
     "output_type": "error",
     "traceback": [
      "\u001b[1;31m---------------------------------------------------------------------------\u001b[0m",
      "\u001b[1;31mAttributeError\u001b[0m                            Traceback (most recent call last)",
      "\u001b[1;32md:\\son_personal\\personal_dev\\guide-unity_python_scripting\\unity_python\\Assets\\StreamingAssets\\python\\python_scripts\\torch_test.ipynb Cell 10\u001b[0m line \u001b[0;36m1\n\u001b[0;32m      <a href='vscode-notebook-cell:/d%3A/son_personal/personal_dev/guide-unity_python_scripting/unity_python/Assets/StreamingAssets/python/python_scripts/torch_test.ipynb#X12sZmlsZQ%3D%3D?line=6'>7</a>\u001b[0m             \u001b[39mprint\u001b[39m(\u001b[39mself\u001b[39m\u001b[39m.\u001b[39maaa)\n\u001b[0;32m      <a href='vscode-notebook-cell:/d%3A/son_personal/personal_dev/guide-unity_python_scripting/unity_python/Assets/StreamingAssets/python/python_scripts/torch_test.ipynb#X12sZmlsZQ%3D%3D?line=7'>8</a>\u001b[0m t \u001b[39m=\u001b[39m TestClass()\n\u001b[1;32m---> <a href='vscode-notebook-cell:/d%3A/son_personal/personal_dev/guide-unity_python_scripting/unity_python/Assets/StreamingAssets/python/python_scripts/torch_test.ipynb#X12sZmlsZQ%3D%3D?line=9'>10</a>\u001b[0m t\u001b[39m.\u001b[39;49mtest_func()\n\u001b[0;32m     <a href='vscode-notebook-cell:/d%3A/son_personal/personal_dev/guide-unity_python_scripting/unity_python/Assets/StreamingAssets/python/python_scripts/torch_test.ipynb#X12sZmlsZQ%3D%3D?line=10'>11</a>\u001b[0m t\u001b[39m.\u001b[39mtest_func()\n",
      "\u001b[1;32md:\\son_personal\\personal_dev\\guide-unity_python_scripting\\unity_python\\Assets\\StreamingAssets\\python\\python_scripts\\torch_test.ipynb Cell 10\u001b[0m line \u001b[0;36m3\n\u001b[0;32m      <a href='vscode-notebook-cell:/d%3A/son_personal/personal_dev/guide-unity_python_scripting/unity_python/Assets/StreamingAssets/python/python_scripts/torch_test.ipynb#X12sZmlsZQ%3D%3D?line=1'>2</a>\u001b[0m \u001b[39mdef\u001b[39;00m \u001b[39mtest_func\u001b[39m(\u001b[39mself\u001b[39m):\n\u001b[1;32m----> <a href='vscode-notebook-cell:/d%3A/son_personal/personal_dev/guide-unity_python_scripting/unity_python/Assets/StreamingAssets/python/python_scripts/torch_test.ipynb#X12sZmlsZQ%3D%3D?line=2'>3</a>\u001b[0m     \u001b[39mif\u001b[39;00m \u001b[39mself\u001b[39;49m\u001b[39m.\u001b[39;49maaa \u001b[39mis\u001b[39;00m \u001b[39mNone\u001b[39;00m:\n\u001b[0;32m      <a href='vscode-notebook-cell:/d%3A/son_personal/personal_dev/guide-unity_python_scripting/unity_python/Assets/StreamingAssets/python/python_scripts/torch_test.ipynb#X12sZmlsZQ%3D%3D?line=3'>4</a>\u001b[0m         \u001b[39mprint\u001b[39m(\u001b[39m\"\u001b[39m\u001b[39mNone\u001b[39m\u001b[39m\"\u001b[39m)\n\u001b[0;32m      <a href='vscode-notebook-cell:/d%3A/son_personal/personal_dev/guide-unity_python_scripting/unity_python/Assets/StreamingAssets/python/python_scripts/torch_test.ipynb#X12sZmlsZQ%3D%3D?line=4'>5</a>\u001b[0m     \u001b[39melse\u001b[39;00m:\n",
      "\u001b[1;31mAttributeError\u001b[0m: 'TestClass' object has no attribute 'aaa'"
     ]
    }
   ],
   "source": [
    "class TestClass:\n",
    "    def test_func(self):\n",
    "        if self.aaa is None:\n",
    "            print(\"None\")\n",
    "        else:\n",
    "            self.aaa = \"abc123\"\n",
    "            print(self.aaa)\n",
    "t = TestClass()\n",
    "\n",
    "t.test_func()\n",
    "t.test_func()"
   ]
  },
  {
   "cell_type": "code",
   "execution_count": null,
   "metadata": {},
   "outputs": [],
   "source": []
  }
 ],
 "metadata": {
  "kernelspec": {
   "display_name": ".venv",
   "language": "python",
   "name": "python3"
  },
  "language_info": {
   "codemirror_mode": {
    "name": "ipython",
    "version": 3
   },
   "file_extension": ".py",
   "mimetype": "text/x-python",
   "name": "python",
   "nbconvert_exporter": "python",
   "pygments_lexer": "ipython3",
   "version": "3.9.12"
  }
 },
 "nbformat": 4,
 "nbformat_minor": 2
}
